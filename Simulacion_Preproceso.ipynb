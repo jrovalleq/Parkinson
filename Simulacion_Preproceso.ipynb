{
  "nbformat": 4,
  "nbformat_minor": 0,
  "metadata": {
    "colab": {
      "name": "Simulacion Preproceso.ipynb",
      "provenance": [],
      "private_outputs": true,
      "mount_file_id": "1RQRoZlzF-x_aC2mB9c3W99KbyH73jPmO",
      "authorship_tag": "ABX9TyNEkwzu0l24Jf/dD4UNNDI1",
      "include_colab_link": true
    },
    "kernelspec": {
      "name": "python3",
      "display_name": "Python 3"
    },
    "accelerator": "GPU"
  },
  "cells": [
    {
      "cell_type": "markdown",
      "metadata": {
        "id": "view-in-github",
        "colab_type": "text"
      },
      "source": [
        "<a href=\"https://colab.research.google.com/github/jrovalleq/Parkinson/blob/master/Simulacion_Preproceso.ipynb\" target=\"_parent\"><img src=\"https://colab.research.google.com/assets/colab-badge.svg\" alt=\"Open In Colab\"/></a>"
      ]
    },
    {
      "cell_type": "markdown",
      "metadata": {
        "id": "UlTeNNEhyx2k",
        "colab_type": "text"
      },
      "source": [
        "# Implementacion de funciones del preporceso para imagenes MRI"
      ]
    },
    {
      "cell_type": "markdown",
      "metadata": {
        "id": "gVvMmrPTNJZM",
        "colab_type": "text"
      },
      "source": [
        "Para usar estas funciones en linux requiere de la instalacion de las librerias y freesurfer, si el preproceso sera realizado en windows se debe instalar elastix el cual optene los mismos resultados."
      ]
    },
    {
      "cell_type": "code",
      "metadata": {
        "id": "RNQTEBpntNpY",
        "colab_type": "code",
        "colab": {}
      },
      "source": [
        "pip install git+https://github.com/jrovalleq/Parkinson.git"
      ],
      "execution_count": 0,
      "outputs": []
    },
    {
      "cell_type": "code",
      "metadata": {
        "id": "GAbJuZS4lYr8",
        "colab_type": "code",
        "colab": {}
      },
      "source": [
        "from funtions_package import * #Importacio del paquete de funciones"
      ],
      "execution_count": 0,
      "outputs": []
    },
    {
      "cell_type": "markdown",
      "metadata": {
        "id": "K7Dpf6gFMsYu",
        "colab_type": "text"
      },
      "source": [
        "## Importación de librerias"
      ]
    },
    {
      "cell_type": "code",
      "metadata": {
        "id": "rc49S6t58jMx",
        "colab_type": "code",
        "colab": {}
      },
      "source": [
        "#Las librerias que necesitan instalacion ya estan incluidas en el repositorio de github\n",
        "import pyfreesurfer as fs #Esta libreria necesita instalacion\n",
        "from pyfreesurfer import __version__ as version\n",
        "from pyfreesurfer.segmentation.cortical import recon_all\n",
        "from pyfreesurfer.wrapper import FSWrapper\n",
        "from pyfreesurfer import DEFAULT_FREESURFER_PATH\n",
        "from pyfreesurfer.conversions.volconvs import mri_convert\n",
        "from pyfreesurfer.conversions.volconvs import mri_convert\n",
        "import os\n",
        "import sys\n",
        "from os import listdir\n",
        "from os import remove\n",
        "import itk # Esta libreria necesita instalacion\n",
        "import SimpleITK as sitk# Esta libreria necesita instalacion\n",
        "import matplotlib.pyplot as plt\n",
        "import numpy as np\n",
        "import shutil\n",
        "import ipywidgets\n",
        "from ipywidgets import interact, fixed\n",
        "from google.colab import files"
      ],
      "execution_count": 0,
      "outputs": []
    },
    {
      "cell_type": "markdown",
      "metadata": {
        "id": "rAa5U5dpORAk",
        "colab_type": "text"
      },
      "source": [
        "Importacion y lectura de imagenes en formato .nii"
      ]
    },
    {
      "cell_type": "code",
      "metadata": {
        "id": "AatBlF6Z9LMa",
        "colab_type": "code",
        "colab": {}
      },
      "source": [
        "#Para este ejemplo se utilizaron imagenes de la base de datos IBSR ya preprocesadas con freesurfer\n",
        "DireccionImagen1 = \"/content/drive/My Drive/Jarok/IBSR_09/mri/brain.nii.gz\" #Sujeto #9\n",
        "DireccionImagen2 = \"/content/drive/My Drive/Jarok/IBSR_13/mri/brain.nii.gz\" #Sujeto #13\n",
        "# Lectura de la imaenes con Simple ITK\n",
        "Image1 = sitk.ReadImage(DireccionImagen1, sitk.sitkFloat32)#Imagen nuero 1\n",
        "Image2 = sitk.ReadImage(DireccionImagen2, sitk.sitkFloat32)#Imagen nuero 2\n"
      ],
      "execution_count": 0,
      "outputs": []
    },
    {
      "cell_type": "markdown",
      "metadata": {
        "id": "9NtIpqd_uej9",
        "colab_type": "text"
      },
      "source": [
        "Visualizacion Imagenes"
      ]
    },
    {
      "cell_type": "code",
      "metadata": {
        "id": "q-0pS8IOtxAN",
        "colab_type": "code",
        "colab": {}
      },
      "source": [
        "print(\"Imagen 1\")\n",
        "funciones.myshow(Image1)\n",
        "print(\"Imagen 2\")\n",
        "funciones.myshow(Image2)"
      ],
      "execution_count": 0,
      "outputs": []
    },
    {
      "cell_type": "markdown",
      "metadata": {
        "id": "oWbznfLCGKCv",
        "colab_type": "text"
      },
      "source": [
        "Registro de la imagen 2 sobre la imagen 1 implementando Simple itk "
      ]
    },
    {
      "cell_type": "code",
      "metadata": {
        "id": "VsAeHj1MY4ep",
        "colab_type": "code",
        "colab": {}
      },
      "source": [
        "Imagen2_R1, y = funciones.RegistrationMethod(Image1, Image2) #Implemetacion funcion de registro"
      ],
      "execution_count": 0,
      "outputs": []
    },
    {
      "cell_type": "markdown",
      "metadata": {
        "id": "-ZN0MFn-eq_S",
        "colab_type": "text"
      },
      "source": [
        "Obtencion de la roi de un conjunto de imagenes segmentadas por medio de un or, recibe la direccion de las imagenes\n"
      ]
    },
    {
      "cell_type": "code",
      "metadata": {
        "id": "QAssFrBcMcbo",
        "colab_type": "code",
        "colab": {}
      },
      "source": [
        "DireccionImagenSeg = \"/content/drive/My Drive/Colab Notebooks/Seg/\" # Direccion de las imagenes\n",
        "ROI, ROIImage = funciones.GetRoiFromArrays(DireccionImagenSeg) #Implementacion de la funcion\n",
        "print(\"Imagen de la ROI\")\n",
        "funciones.myshow(ROIImage)"
      ],
      "execution_count": 0,
      "outputs": []
    },
    {
      "cell_type": "markdown",
      "metadata": {
        "id": "qEwnHo3xglrx",
        "colab_type": "text"
      },
      "source": [
        "Obtencion del bounding box de una roi"
      ]
    },
    {
      "cell_type": "code",
      "metadata": {
        "id": "WJACVvKzunBT",
        "colab_type": "code",
        "colab": {}
      },
      "source": [
        "DirectionRoi = \"/content/drive/My Drive/Colab Notebooks/roi.nii\" # Direccion de la roi\n",
        "BonBox = funciones.GetRoiBoundingBox(DirectionRoi)# Implementacion de la funcion\n"
      ],
      "execution_count": 0,
      "outputs": []
    },
    {
      "cell_type": "code",
      "metadata": {
        "id": "idGEcd-g2lVJ",
        "colab_type": "code",
        "colab": {}
      },
      "source": [
        "Imageroi = sitk.ReadImage(DirectionRoi, sitk.sitkFloat32)#Imagen nuero 1\n",
        "print(\"Imagen de la ROI\")\n",
        "funciones.myshow(Imageroi)\n",
        "print(\"Imagen de la ROI\")\n",
        "funciones.myshow(BonBox)"
      ],
      "execution_count": 0,
      "outputs": []
    }
  ]
}